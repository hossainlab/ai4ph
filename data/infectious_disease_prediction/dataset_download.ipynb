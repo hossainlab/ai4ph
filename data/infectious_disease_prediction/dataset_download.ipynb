{
 "cells": [
  {
   "cell_type": "markdown",
   "metadata": {},
   "source": [
    "# Infectious Disease Prediction Test\n",
    "\n",
    "This notebook tests the download and loading of the Infectious Disease Prediction dataset from Kaggle."
   ]
  },
  {
   "cell_type": "code",
   "execution_count": 1,
   "metadata": {},
   "outputs": [
    {
     "name": "stdout",
     "output_type": "stream",
     "text": [
      "Requirement already satisfied: kagglehub in /home/tamim/ai4ph/.venv/lib/python3.12/site-packages (0.3.12)\n",
      "Requirement already satisfied: pandas in /home/tamim/ai4ph/.venv/lib/python3.12/site-packages (2.3.1)\n",
      "Requirement already satisfied: matplotlib in /home/tamim/ai4ph/.venv/lib/python3.12/site-packages (3.10.3)\n",
      "Requirement already satisfied: seaborn in /home/tamim/ai4ph/.venv/lib/python3.12/site-packages (0.13.2)\n",
      "Requirement already satisfied: numpy in /home/tamim/ai4ph/.venv/lib/python3.12/site-packages (2.3.1)\n",
      "Requirement already satisfied: packaging in /home/tamim/ai4ph/.venv/lib/python3.12/site-packages (from kagglehub) (25.0)\n",
      "Requirement already satisfied: pyyaml in /home/tamim/ai4ph/.venv/lib/python3.12/site-packages (from kagglehub) (6.0.2)\n",
      "Requirement already satisfied: requests in /home/tamim/ai4ph/.venv/lib/python3.12/site-packages (from kagglehub) (2.32.4)\n",
      "Requirement already satisfied: tqdm in /home/tamim/ai4ph/.venv/lib/python3.12/site-packages (from kagglehub) (4.67.1)\n",
      "Requirement already satisfied: python-dateutil>=2.8.2 in /home/tamim/ai4ph/.venv/lib/python3.12/site-packages (from pandas) (2.9.0.post0)\n",
      "Requirement already satisfied: pytz>=2020.1 in /home/tamim/ai4ph/.venv/lib/python3.12/site-packages (from pandas) (2025.2)\n",
      "Requirement already satisfied: tzdata>=2022.7 in /home/tamim/ai4ph/.venv/lib/python3.12/site-packages (from pandas) (2025.2)\n",
      "Requirement already satisfied: contourpy>=1.0.1 in /home/tamim/ai4ph/.venv/lib/python3.12/site-packages (from matplotlib) (1.3.2)\n",
      "Requirement already satisfied: cycler>=0.10 in /home/tamim/ai4ph/.venv/lib/python3.12/site-packages (from matplotlib) (0.12.1)\n",
      "Requirement already satisfied: fonttools>=4.22.0 in /home/tamim/ai4ph/.venv/lib/python3.12/site-packages (from matplotlib) (4.59.0)\n",
      "Requirement already satisfied: kiwisolver>=1.3.1 in /home/tamim/ai4ph/.venv/lib/python3.12/site-packages (from matplotlib) (1.4.8)\n",
      "Requirement already satisfied: pillow>=8 in /home/tamim/ai4ph/.venv/lib/python3.12/site-packages (from matplotlib) (11.3.0)\n",
      "Requirement already satisfied: pyparsing>=2.3.1 in /home/tamim/ai4ph/.venv/lib/python3.12/site-packages (from matplotlib) (3.2.3)\n",
      "Requirement already satisfied: six>=1.5 in /home/tamim/ai4ph/.venv/lib/python3.12/site-packages (from python-dateutil>=2.8.2->pandas) (1.17.0)\n",
      "Requirement already satisfied: charset_normalizer<4,>=2 in /home/tamim/ai4ph/.venv/lib/python3.12/site-packages (from requests->kagglehub) (3.4.2)\n",
      "Requirement already satisfied: idna<4,>=2.5 in /home/tamim/ai4ph/.venv/lib/python3.12/site-packages (from requests->kagglehub) (3.10)\n",
      "Requirement already satisfied: urllib3<3,>=1.21.1 in /home/tamim/ai4ph/.venv/lib/python3.12/site-packages (from requests->kagglehub) (2.5.0)\n",
      "Requirement already satisfied: certifi>=2017.4.17 in /home/tamim/ai4ph/.venv/lib/python3.12/site-packages (from requests->kagglehub) (2025.7.14)\n",
      "Note: you may need to restart the kernel to use updated packages.\n"
     ]
    }
   ],
   "source": [
    "# Install required packages\n",
    "%pip install kagglehub pandas matplotlib seaborn numpy"
   ]
  },
  {
   "cell_type": "code",
   "execution_count": 2,
   "metadata": {},
   "outputs": [
    {
     "name": "stderr",
     "output_type": "stream",
     "text": [
      "/home/tamim/ai4ph/.venv/lib/python3.12/site-packages/tqdm/auto.py:21: TqdmWarning: IProgress not found. Please update jupyter and ipywidgets. See https://ipywidgets.readthedocs.io/en/stable/user_install.html\n",
      "  from .autonotebook import tqdm as notebook_tqdm\n"
     ]
    },
    {
     "name": "stdout",
     "output_type": "stream",
     "text": [
      "Downloading Infectious Disease Prediction dataset...\n",
      "Copied train.csv to local data folder\n",
      "Copied test.csv to local data folder\n",
      "Dataset available locally at: /home/tamim/ai4ph/data/infectious_disease_prediction\n"
     ]
    }
   ],
   "source": [
    "import kagglehub\n",
    "import pandas as pd\n",
    "import os\n",
    "import matplotlib.pyplot as plt\n",
    "import seaborn as sns\n",
    "import numpy as np\n",
    "import shutil\n",
    "\n",
    "# Download the dataset to current directory\n",
    "print(\"Downloading Infectious Disease Prediction dataset...\")\n",
    "cache_path = kagglehub.dataset_download(\"haithemhermessi/infectious-disease-prediction\")\n",
    "\n",
    "# Copy to current folder\n",
    "current_dir = os.getcwd()\n",
    "local_data_dir = current_dir\n",
    "os.makedirs(local_data_dir, exist_ok=True)\n",
    "\n",
    "# Copy files from cache to local directory\n",
    "for file in os.listdir(cache_path):\n",
    "    src = os.path.join(cache_path, file)\n",
    "    dst = os.path.join(local_data_dir, file)\n",
    "    shutil.copy2(src, dst)\n",
    "    print(f\"Copied {file} to local data folder\")\n",
    "\n",
    "path = local_data_dir\n",
    "print(f\"Dataset available locally at: {path}\")"
   ]
  },
  {
   "cell_type": "code",
   "execution_count": 3,
   "metadata": {},
   "outputs": [
    {
     "name": "stdout",
     "output_type": "stream",
     "text": [
      "- train.csv: 5414.1 KB\n",
      "- README.md: 1.0 KB\n",
      "- test.csv: 1347.3 KB\n",
      "- dataset_download.ipynb: 9.2 KB\n",
      "\n",
      "Total dataset size: 6.61 MB\n"
     ]
    }
   ],
   "source": [
    "# Check dataset size\n",
    "total_size = 0\n",
    "files = os.listdir(path)\n",
    "for file in files:\n",
    "    file_path = os.path.join(path, file)\n",
    "    size = os.path.getsize(file_path)\n",
    "    total_size += size\n",
    "    print(f\"- {file}: {size/1024:.1f} KB\")\n",
    "\n",
    "print(f\"\\nTotal dataset size: {total_size/(1024*1024):.2f} MB\")"
   ]
  },
  {
   "cell_type": "code",
   "execution_count": 4,
   "metadata": {},
   "outputs": [
    {
     "name": "stdout",
     "output_type": "stream",
     "text": [
      "Dataset shape: (75614, 10)\n",
      "Columns: ['Unnamed: 0', 'Disease', 'County', 'Year', 'Sex', 'Count', 'Population', 'Rate', 'CI.lower', 'CI.upper']\n",
      "Sample data:\n",
      "   Unnamed: 0        Disease       County  Year     Sex  Count  Population  \\\n",
      "0       88976      Pertussis         Mono  2001  Female      0        6031   \n",
      "1      127888   Tuberculosis  Santa Clara  2004  Female     85      840509   \n",
      "2       62206            HIV       Merced  2003  Female      0      114558   \n",
      "3       99748  Rabies, human     Siskiyou  2007    Male      0       22227   \n",
      "4       37088         Dengue        Butte  2013  Female      0      111548   \n",
      "\n",
      "     Rate  CI.lower  CI.upper  \n",
      "0   0.000     0.000    61.147  \n",
      "1  10.113     8.078    12.505  \n",
      "2   0.000     0.000     3.220  \n",
      "3   0.000     0.000    16.595  \n",
      "4   0.000     0.000     3.307  \n"
     ]
    }
   ],
   "source": [
    "# Load and analyze the dataset\n",
    "csv_files = [f for f in files if f.endswith('.csv')]\n",
    "if csv_files:\n",
    "    df = pd.read_csv(os.path.join(path, csv_files[0]))\n",
    "    print(f\"Dataset shape: {df.shape}\")\n",
    "    print(f\"Columns: {list(df.columns)}\")\n",
    "    print(f\"Sample data:\\n{df.head()}\")\n",
    "else:\n",
    "    print(\"No CSV files found\")"
   ]
  },
  {
   "cell_type": "code",
   "execution_count": 5,
   "metadata": {},
   "outputs": [
    {
     "name": "stdout",
     "output_type": "stream",
     "text": [
      "✅ Dataset download and setup completed successfully!\n",
      "\n",
      "Dataset Summary:\n",
      "- Location: /home/tamim/ai4ph/data/infectious_disease_prediction\n",
      "- Size: 6.61 MB\n",
      "- Records: 75,614\n",
      "- Features: 10\n",
      "- Use case: Disease outbreak prediction, epidemiological modeling\n",
      "- Perfect for: Module 7 (Public Health Modeling), Module 8 (Surveillance)\n"
     ]
    }
   ],
   "source": [
    "print(\"✅ Dataset download and setup completed successfully!\")\n",
    "print(\"\\nDataset Summary:\")\n",
    "print(f\"- Location: {path}\")\n",
    "print(f\"- Size: {total_size/(1024*1024):.2f} MB\")\n",
    "if csv_files:\n",
    "    print(f\"- Records: {df.shape[0]:,}\")\n",
    "    print(f\"- Features: {df.shape[1]}\")\n",
    "print(\"- Use case: Disease outbreak prediction, epidemiological modeling\")\n",
    "print(\"- Perfect for: Module 7 (Public Health Modeling), Module 8 (Surveillance)\")"
   ]
  }
 ],
 "metadata": {
  "kernelspec": {
   "display_name": ".venv",
   "language": "python",
   "name": "python3"
  },
  "language_info": {
   "codemirror_mode": {
    "name": "ipython",
    "version": 3
   },
   "file_extension": ".py",
   "mimetype": "text/x-python",
   "name": "python",
   "nbconvert_exporter": "python",
   "pygments_lexer": "ipython3",
   "version": "3.12.3"
  }
 },
 "nbformat": 4,
 "nbformat_minor": 4
}
