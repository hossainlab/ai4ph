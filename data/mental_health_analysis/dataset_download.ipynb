{
 "cells": [
  {
   "cell_type": "markdown",
   "metadata": {},
   "source": [
    "# Mental Health Dataset Test\n",
    "\n",
    "This notebook tests the download and loading of the Mental Health dataset from Kaggle."
   ]
  },
  {
   "cell_type": "code",
   "execution_count": 1,
   "metadata": {},
   "outputs": [
    {
     "name": "stdout",
     "output_type": "stream",
     "text": [
      "Requirement already satisfied: kagglehub in /home/tamim/ai4ph/.venv/lib/python3.12/site-packages (0.3.12)\n",
      "Requirement already satisfied: pandas in /home/tamim/ai4ph/.venv/lib/python3.12/site-packages (2.3.1)\n",
      "Requirement already satisfied: matplotlib in /home/tamim/ai4ph/.venv/lib/python3.12/site-packages (3.10.3)\n",
      "Requirement already satisfied: seaborn in /home/tamim/ai4ph/.venv/lib/python3.12/site-packages (0.13.2)\n",
      "Requirement already satisfied: packaging in /home/tamim/ai4ph/.venv/lib/python3.12/site-packages (from kagglehub) (25.0)\n",
      "Requirement already satisfied: pyyaml in /home/tamim/ai4ph/.venv/lib/python3.12/site-packages (from kagglehub) (6.0.2)\n",
      "Requirement already satisfied: requests in /home/tamim/ai4ph/.venv/lib/python3.12/site-packages (from kagglehub) (2.32.4)\n",
      "Requirement already satisfied: tqdm in /home/tamim/ai4ph/.venv/lib/python3.12/site-packages (from kagglehub) (4.67.1)\n",
      "Requirement already satisfied: numpy>=1.26.0 in /home/tamim/ai4ph/.venv/lib/python3.12/site-packages (from pandas) (2.3.1)\n",
      "Requirement already satisfied: python-dateutil>=2.8.2 in /home/tamim/ai4ph/.venv/lib/python3.12/site-packages (from pandas) (2.9.0.post0)\n",
      "Requirement already satisfied: pytz>=2020.1 in /home/tamim/ai4ph/.venv/lib/python3.12/site-packages (from pandas) (2025.2)\n",
      "Requirement already satisfied: tzdata>=2022.7 in /home/tamim/ai4ph/.venv/lib/python3.12/site-packages (from pandas) (2025.2)\n",
      "Requirement already satisfied: contourpy>=1.0.1 in /home/tamim/ai4ph/.venv/lib/python3.12/site-packages (from matplotlib) (1.3.2)\n",
      "Requirement already satisfied: cycler>=0.10 in /home/tamim/ai4ph/.venv/lib/python3.12/site-packages (from matplotlib) (0.12.1)\n",
      "Requirement already satisfied: fonttools>=4.22.0 in /home/tamim/ai4ph/.venv/lib/python3.12/site-packages (from matplotlib) (4.59.0)\n",
      "Requirement already satisfied: kiwisolver>=1.3.1 in /home/tamim/ai4ph/.venv/lib/python3.12/site-packages (from matplotlib) (1.4.8)\n",
      "Requirement already satisfied: pillow>=8 in /home/tamim/ai4ph/.venv/lib/python3.12/site-packages (from matplotlib) (11.3.0)\n",
      "Requirement already satisfied: pyparsing>=2.3.1 in /home/tamim/ai4ph/.venv/lib/python3.12/site-packages (from matplotlib) (3.2.3)\n",
      "Requirement already satisfied: six>=1.5 in /home/tamim/ai4ph/.venv/lib/python3.12/site-packages (from python-dateutil>=2.8.2->pandas) (1.17.0)\n",
      "Requirement already satisfied: charset_normalizer<4,>=2 in /home/tamim/ai4ph/.venv/lib/python3.12/site-packages (from requests->kagglehub) (3.4.2)\n",
      "Requirement already satisfied: idna<4,>=2.5 in /home/tamim/ai4ph/.venv/lib/python3.12/site-packages (from requests->kagglehub) (3.10)\n",
      "Requirement already satisfied: urllib3<3,>=1.21.1 in /home/tamim/ai4ph/.venv/lib/python3.12/site-packages (from requests->kagglehub) (2.5.0)\n",
      "Requirement already satisfied: certifi>=2017.4.17 in /home/tamim/ai4ph/.venv/lib/python3.12/site-packages (from requests->kagglehub) (2025.7.14)\n",
      "Note: you may need to restart the kernel to use updated packages.\n"
     ]
    }
   ],
   "source": [
    "%pip install kagglehub pandas matplotlib seaborn"
   ]
  },
  {
   "cell_type": "code",
   "execution_count": 2,
   "metadata": {},
   "outputs": [
    {
     "name": "stderr",
     "output_type": "stream",
     "text": [
      "/home/tamim/ai4ph/.venv/lib/python3.12/site-packages/tqdm/auto.py:21: TqdmWarning: IProgress not found. Please update jupyter and ipywidgets. See https://ipywidgets.readthedocs.io/en/stable/user_install.html\n",
      "  from .autonotebook import tqdm as notebook_tqdm\n"
     ]
    },
    {
     "name": "stdout",
     "output_type": "stream",
     "text": [
      "Downloading Mental Health dataset...\n",
      "Copied Mental Health Dataset.csv\n"
     ]
    }
   ],
   "source": [
    "import kagglehub\n",
    "import pandas as pd\n",
    "import os\n",
    "import matplotlib.pyplot as plt\n",
    "import seaborn as sns\n",
    "import shutil\n",
    "\n",
    "# Download and copy to local directory\n",
    "print(\"Downloading Mental Health dataset...\")\n",
    "cache_path = kagglehub.dataset_download(\"bhavikjikadara/mental-health-dataset\")\n",
    "current_dir = os.getcwd()\n",
    "local_data_dir = current_dir\n",
    "os.makedirs(local_data_dir, exist_ok=True)\n",
    "\n",
    "for file in os.listdir(cache_path):\n",
    "    src = os.path.join(cache_path, file)\n",
    "    dst = os.path.join(local_data_dir, file)\n",
    "    shutil.copy2(src, dst)\n",
    "    print(f\"Copied {file}\")\n",
    "\n",
    "path = local_data_dir"
   ]
  },
  {
   "cell_type": "code",
   "execution_count": 3,
   "metadata": {},
   "outputs": [
    {
     "name": "stdout",
     "output_type": "stream",
     "text": [
      "Dataset shape: (292364, 17)\n",
      "Columns: ['Timestamp', 'Gender', 'Country', 'Occupation', 'self_employed', 'family_history', 'treatment', 'Days_Indoors', 'Growing_Stress', 'Changes_Habits', 'Mental_Health_History', 'Mood_Swings', 'Coping_Struggles', 'Work_Interest', 'Social_Weakness', 'mental_health_interview', 'care_options']\n",
      "         Timestamp  Gender        Country Occupation self_employed  \\\n",
      "0  8/27/2014 11:29  Female  United States  Corporate           NaN   \n",
      "1  8/27/2014 11:31  Female  United States  Corporate           NaN   \n",
      "2  8/27/2014 11:32  Female  United States  Corporate           NaN   \n",
      "3  8/27/2014 11:37  Female  United States  Corporate            No   \n",
      "4  8/27/2014 11:43  Female  United States  Corporate            No   \n",
      "\n",
      "  family_history treatment Days_Indoors Growing_Stress Changes_Habits  \\\n",
      "0             No       Yes    1-14 days            Yes             No   \n",
      "1            Yes       Yes    1-14 days            Yes             No   \n",
      "2            Yes       Yes    1-14 days            Yes             No   \n",
      "3            Yes       Yes    1-14 days            Yes             No   \n",
      "4            Yes       Yes    1-14 days            Yes             No   \n",
      "\n",
      "  Mental_Health_History Mood_Swings Coping_Struggles Work_Interest  \\\n",
      "0                   Yes      Medium               No            No   \n",
      "1                   Yes      Medium               No            No   \n",
      "2                   Yes      Medium               No            No   \n",
      "3                   Yes      Medium               No            No   \n",
      "4                   Yes      Medium               No            No   \n",
      "\n",
      "  Social_Weakness mental_health_interview care_options  \n",
      "0             Yes                      No     Not sure  \n",
      "1             Yes                      No           No  \n",
      "2             Yes                      No          Yes  \n",
      "3             Yes                   Maybe          Yes  \n",
      "4             Yes                      No          Yes  \n"
     ]
    },
    {
     "data": {
      "image/png": "[encoded data removed]",
      "text/plain": [
       "<Figure size 1200x800 with 4 Axes>"
      ]
     },
     "metadata": {},
     "output_type": "display_data"
    }
   ],
   "source": [
    "# Load and analyze\n",
    "csv_files = [f for f in os.listdir(path) if f.endswith('.csv')]\n",
    "if csv_files:\n",
    "    df = pd.read_csv(os.path.join(path, csv_files[0]))\n",
    "    print(f\"Dataset shape: {df.shape}\")\n",
    "    print(f\"Columns: {list(df.columns)}\")\n",
    "    print(df.head())\n",
    "    \n",
    "    # Create mental health visualizations\n",
    "    fig, axes = plt.subplots(2, 2, figsize=(12, 8))\n",
    "    axes = axes.ravel()\n",
    "    \n",
    "    # Plot key mental health indicators\n",
    "    numeric_cols = df.select_dtypes(include=['int64', 'float64']).columns\n",
    "    for i, col in enumerate(numeric_cols[:4]):\n",
    "        if i < len(axes):\n",
    "            df[col].hist(bins=20, ax=axes[i])\n",
    "            axes[i].set_title(f'{col} Distribution')\n",
    "    \n",
    "    plt.tight_layout()\n",
    "    plt.show()"
   ]
  },
  {
   "cell_type": "code",
   "execution_count": 4,
   "metadata": {},
   "outputs": [
    {
     "name": "stdout",
     "output_type": "stream",
     "text": [
      "✅ Mental Health dataset ready!\n",
      "- Location: /home/tamim/ai4ph/data/mental_health_analysis\n",
      "- Records: 292,364\n",
      "- Features: 17\n",
      "- Use case: Mental health analysis, psychological well-being research\n",
      "- Perfect for: Module 4 (Data Visualization), Module 5 (Machine Learning), Module 7 (Public Health Modeling)\n"
     ]
    }
   ],
   "source": [
    "print(\"✅ Mental Health dataset ready!\")\n",
    "print(f\"- Location: {path}\")\n",
    "if csv_files:\n",
    "    print(f\"- Records: {df.shape[0]:,}\")\n",
    "    print(f\"- Features: {df.shape[1]}\")\n",
    "print(\"- Use case: Mental health analysis, psychological well-being research\")\n",
    "print(\"- Perfect for: Module 4 (Data Visualization), Module 5 (Machine Learning), Module 7 (Public Health Modeling)\")"
   ]
  }
 ],
 "metadata": {
  "kernelspec": {
   "display_name": ".venv",
   "language": "python",
   "name": "python3"
  },
  "language_info": {
   "codemirror_mode": {
    "name": "ipython",
    "version": 3
   },
   "file_extension": ".py",
   "mimetype": "text/x-python",
   "name": "python",
   "nbconvert_exporter": "python",
   "pygments_lexer": "ipython3",
   "version": "3.12.3"
  }
 },
 "nbformat": 4,
 "nbformat_minor": 4
}
